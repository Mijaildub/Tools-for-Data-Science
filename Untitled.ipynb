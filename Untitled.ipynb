{
  "metadata": {
    "language_info": {
      "codemirror_mode": {
        "name": "python",
        "version": 3
      },
      "file_extension": ".py",
      "mimetype": "text/x-python",
      "name": "python",
      "nbconvert_exporter": "python",
      "pygments_lexer": "ipython3",
      "version": "3.8"
    },
    "kernelspec": {
      "name": "python",
      "display_name": "Pyolite",
      "language": "python"
    }
  },
  "nbformat_minor": 4,
  "nbformat": 4,
  "cells": [
    {
      "cell_type": "markdown",
      "source": "# My Jupyter Notebook on IBM Watson Studio",
      "metadata": {}
    },
    {
      "cell_type": "markdown",
      "source": "**Miguel Carballo**\nCredit Risk Analyst",
      "metadata": {}
    },
    {
      "cell_type": "markdown",
      "source": "*I am interested in data science because it is an important tool on my daily job and that might make me improve in my professional career since it is a profile that is increasing its demand*",
      "metadata": {}
    },
    {
      "cell_type": "markdown",
      "source": "### This code calculates the basic multiplication 24*60",
      "metadata": {}
    },
    {
      "cell_type": "code",
      "source": "24*60",
      "metadata": {
        "trusted": true
      },
      "execution_count": 2,
      "outputs": [
        {
          "execution_count": 2,
          "output_type": "execute_result",
          "data": {
            "text/plain": "1440"
          },
          "metadata": {}
        }
      ]
    },
    {
      "cell_type": "markdown",
      "source": "![smile](https://seeklogo.com/images/S/Smile-logo-A18DBD791A-seeklogo.com.png)\n___\n1 2 3\n___\n[Success!](https://www.univision.com/proxy/api/cached/picture?href=https%3A%2F%2Fuvn-brightspot.s3.amazonaws.com%2Fassets%2Fvixes%2Fg%2Fgif-gatos5.gif&width=0&height=0&ratio_width=1240&ratio_height=698&format=webp)",
      "metadata": {}
    }
  ]
}